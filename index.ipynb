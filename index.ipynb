{
 "cells": [
  {
   "cell_type": "code",
   "execution_count": null,
   "metadata": {
    "collapsed": false
   },
   "outputs": [],
   "source": [
    "import numpy as np\n",
    "from sklearn.preprocessing import Imputer\n",
    "from sklearn.cross_validation import train_test_split\n",
    "from sklearn.neighbors import KNeighborsClassifier\n",
    "from sklearn.metrics import accuracy_score\n",
    "from sklearn.decomposition import PCA"
   ]
  },
  {
   "cell_type": "code",
   "execution_count": null,
   "metadata": {
    "collapsed": true
   },
   "outputs": [],
   "source": [
    "dqe_data = np.genfromtxt(\n",
    " fname ='dqe1.data', delimiter= ',', dtype= float)"
   ]
  },
  {
   "cell_type": "code",
   "execution_count": null,
   "metadata": {
    "collapsed": false
   },
   "outputs": [],
   "source": [
    "print \"Dataset Lenght:: \", len(dqe_data)\n",
    "print \"Dataset:: \", str(dqe_data)\n",
    "print \"Dataset Shape:: \", dqe_data.shape"
   ]
  },
  {
   "cell_type": "code",
   "execution_count": null,
   "metadata": {
    "collapsed": false
   },
   "outputs": [],
   "source": [
    "X = dqe_data[:,range(0,15)]\n",
    "Y = dqe_data[:,15]\n",
    "print X\n",
    "#input and output data\n",
    "imp = Imputer(missing_values=\"NaN\", strategy='median', axis=0)\n",
    "X = imp.fit_transform(X)\n"
   ]
  },
  {
   "cell_type": "code",
   "execution_count": null,
   "metadata": {
    "collapsed": true
   },
   "outputs": [],
   "source": [
    "X_train, X_test, y_train, y_test = train_test_split(\n",
    " X, Y, test_size = 0.3, random_state = 100)\n",
    "y_train = y_train.ravel()\n",
    "y_test = y_test.ravel()"
   ]
  },
  {
   "cell_type": "code",
   "execution_count": null,
   "metadata": {
    "collapsed": false
   },
   "outputs": [],
   "source": [
    "\n",
    "#Regression\n",
    "\n",
    "# example of training a final regression model\n",
    "from sklearn.linear_model import LinearRegression\n",
    "from sklearn.datasets import make_regression\n",
    "# generate regression dataset\n",
    "#X=[[0.3, 0.1], [0.4, 0.2], [0.7, 0.3], [0.9, 0.1],[0.8,0.4],[0.9,0.6],[0.2,0.5],[0.6,0.6],[0.7,0.2],[0.2,0.8],[0.7,0.6],[0.7,0.7],[0.6,0.4],[0.8,0.5],[0.9,0.9],[0.3,0.6],[0.8,0.0],[0.0,0.6],[0.2,0.1]]\n",
    "#y= [0.2, 0.3, 0.5, 0.5, 0.6, 0.8, 0.4, 0.6, 0.5, 0.5, 0.7, 0.7, 0.5, 0.7, 0.9, 0.5, 0.4, 0.3, 0.2] \n",
    "#X, y = make_regression(n_samples=10, n_features=2, noise=0.1)\n",
    "\n",
    "#print X, y\n",
    "# fit final model\n",
    "model = LinearRegression()\n",
    "model.fit(X_train, y_train)\n",
    "\n",
    "dqe_data_test = np.genfromtxt(\n",
    " fname ='dqe_test.data', delimiter= ',', dtype= float)\n",
    "\n",
    "#A = dqe_data_test\n",
    "\n",
    "\n",
    "#input and output data\n",
    "#imp = Imputer(missing_values=\"NaN\", strategy='median', axis=0)\n",
    "#A = imp.fit_transform(A)\n",
    "#print A\n",
    "\n",
    "\n",
    "ynew = model.predict(dqe_data_test)\n",
    "\n",
    "print (ynew/1)*100,\"Good\"\n",
    "print 100-((ynew/1)*100),\"Bad\"\n",
    "\n",
    "print(\"X=%s, Predicted=%s\" % (dqe_data_test, ynew))\n",
    "\n",
    "if (ynew/1)*100 > 100-((ynew/1)*100):\n",
    "     print \"Yay, it a Good Signal\"\n",
    "else:\n",
    "     print \"Ohh! Its a Bad one.\"\n",
    "\n",
    "\n",
    "#print ynew\n",
    "\n"
   ]
  },
  {
   "cell_type": "code",
   "execution_count": null,
   "metadata": {
    "collapsed": true
   },
   "outputs": [],
   "source": [
    "from __future__ import print_function\n",
    "from ipywidgets import interact, interactive, fixed, interact_manual\n",
    "import ipywidgets as widgets\n",
    "from IPython.display import display\n",
    "\n",
    "\n",
    "import warnings\n",
    "warnings.filterwarnings('ignore')"
   ]
  },
  {
   "cell_type": "code",
   "execution_count": 12,
   "metadata": {
    "collapsed": false
   },
   "outputs": [
    {
     "data": {
      "text/plain": [
       "(array([ 72.40581359]), '%', 'Good and', array([ 27.59418641]), '%', 'Bad')"
      ]
     },
     "metadata": {},
     "output_type": "display_data"
    }
   ],
   "source": [
    "def x_slider(x):\n",
    "    #print Throttle.get()\n",
    "    dqe_data_test['2']=x\n",
    "    #print dqe_data_test\n",
    "    ynew = model.predict(dqe_data_test)\n",
    "    #print (ynew/1)*100,\"Good\"\n",
    "    bb=(ynew/1)*100,\"%\",\"Good and\",100-((ynew/1)*100),\"%\",\"Bad\"\n",
    "    return bb\n",
    "    #print 100-((ynew/1)*100),\"Bad\"\n",
    "    #bb=100-((ynew/1)*100),\"Bad\"\n",
    "    #print(\"Predicted=%s\" % (ynew))\n",
    "    #print(\"X=%s, Predicted=%s\" % (dqe_data_test, ynew))\n",
    "    \n",
    "    #if (ynew/1)*100 > 100-((ynew/1)*100):\n",
    "    # print \"Yay, it a Good Signal\"\n",
    "    #else:\n",
    "    # print \"Ohh! Its a Bad one.\"\n",
    "\n",
    "\n",
    "\n",
    "\n",
    "\n",
    "\n",
    "\n",
    "b=interact(x_slider, x=(0,25,1));\n",
    "\n",
    "\n",
    "\n",
    "\n",
    "\n",
    "\n",
    "\n"
   ]
  },
  {
   "cell_type": "code",
   "execution_count": 11,
   "metadata": {
    "collapsed": false
   },
   "outputs": [],
   "source": [
    "caption = widgets.Label(value='The values of range1 and range2 are synchronized')\n",
    "slider = widgets.IntSlider(min=0, max=25, value=1, description='Rating')\n",
    "\n",
    "def handle_slider_change(change):\n",
    "    \n",
    "    dqe_data_test['2']=change.new\n",
    "    #print dqe_data_test\n",
    "    ynew = model.predict(dqe_data_test)\n",
    "    #print (ynew/1)*100,\"Good\"\n",
    "    bb=(ynew/1)*100,\"%\",\"Good and\",100-((ynew/1)*100),\"%\",\"Bad\"\n",
    "    caption.value = str(bb)\n",
    "    #caption.value = 'The slider value is ' + (\n",
    "    #    'negative' if change.new < 0 else 'nonnegative'\n",
    "    #)\n",
    "\n",
    "slider.observe(handle_slider_change, names='value')\n",
    "\n",
    "display(caption, slider)"
   ]
  },
  {
   "cell_type": "code",
   "execution_count": null,
   "metadata": {
    "collapsed": true
   },
   "outputs": [],
   "source": []
  }
 ],
 "metadata": {
  "kernelspec": {
   "display_name": "Python 2",
   "language": "python",
   "name": "python2"
  },
  "language_info": {
   "codemirror_mode": {
    "name": "ipython",
    "version": 2
   },
   "file_extension": ".py",
   "mimetype": "text/x-python",
   "name": "python",
   "nbconvert_exporter": "python",
   "pygments_lexer": "ipython2",
   "version": "2.7.13"
  },
  "widgets": {
   "state": {
    "0ed6abcf49eb44b1a56d14982737fb8b": {
     "views": [
      {
       "cell_index": 8
      }
     ]
    },
    "1687365e32b44616900bc03aa0660ad2": {
     "views": [
      {
       "cell_index": 8
      }
     ]
    },
    "2cdc2c84254c41deb97a7f3484969978": {
     "views": [
      {
       "cell_index": 8
      }
     ]
    },
    "330d83e3e3544fb3b63d902ed385aa1b": {
     "views": [
      {
       "cell_index": 8
      }
     ]
    },
    "552447183874489f9d4768da91eff63e": {
     "views": [
      {
       "cell_index": 7
      }
     ]
    },
    "649b58ca2dad46f187d20df669151916": {
     "views": [
      {
       "cell_index": 8
      }
     ]
    },
    "67bdcdfec3494231b77e5787fcfcfc53": {
     "views": [
      {
       "cell_index": 8
      }
     ]
    },
    "7d10fc3ee3e74930a58c59d5e4d0bfc0": {
     "views": [
      {
       "cell_index": 8
      }
     ]
    },
    "811e518bc8c2412fbd28e4385e624f34": {
     "views": [
      {
       "cell_index": 8
      }
     ]
    },
    "86849dcc7fa143588817be1f4fe9d0f3": {
     "views": [
      {
       "cell_index": 7
      }
     ]
    },
    "879032ea6bb042a9bb3027f87ec7a642": {
     "views": [
      {
       "cell_index": 8
      }
     ]
    },
    "d6cee5fadfcd4b62acae3f1d091ab4e1": {
     "views": [
      {
       "cell_index": 7
      }
     ]
    }
   },
   "version": "1.2.0"
  }
 },
 "nbformat": 4,
 "nbformat_minor": 2
}
